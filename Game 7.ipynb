{
 "cells": [
  {
   "cell_type": "markdown",
   "metadata": {},
   "source": [
    "I have been interested in looking at MLB pitch data and play-by-play for a while now, however, I have not found any good blob posts or tutorials for doing this. So during the MLB Playoffs, while I was checking the score of [Cubs vs. Dodgers, Game 5](http://sports.yahoo.com/mlb/chicago-cubs-los-angeles-dodgers-361020119/) on Yahoo! it struck me that there is proabably a way to get the live game data from Yahoo! while the game is in progress.  So I poked arond and found that there is! In this post, I will review what I found and how to use the data to make pitch charts using the data from [World Series Game 7](http://sports.yahoo.com/mlb/chicago-cubs-cleveland-indians-361102105/).\n",
    "\n",
    "Yahoo! gives every game a _gameid_. For World Series Game 7, the _gameid_ is:"
   ]
  },
  {
   "cell_type": "code",
   "execution_count": 5,
   "metadata": {
    "collapsed": true
   },
   "outputs": [],
   "source": [
    "game_id = '361102105'"
   ]
  },
  {
   "cell_type": "markdown",
   "metadata": {},
   "source": [
    "The game boxscore data that you see on Yahoo! can be accessed in real-time here:"
   ]
  },
  {
   "cell_type": "code",
   "execution_count": 6,
   "metadata": {
    "collapsed": false
   },
   "outputs": [],
   "source": [
    "game_url = 'https://api-secure.sports.yahoo.com/v1/editorial/s/boxscore/mlb.g.' + game_id + \\\n",
    "            '?lang=en-US&region=US&tz=America%2FChicago&ysp_redesign=1&mode=&v=4&ysp_enable_last_update=1&polling=1'"
   ]
  },
  {
   "cell_type": "markdown",
   "metadata": {},
   "source": [
    "Using [_requests_](http://docs.python-requests.org/en/master/), we can get the boxscore data."
   ]
  },
  {
   "cell_type": "code",
   "execution_count": 7,
   "metadata": {
    "collapsed": false
   },
   "outputs": [],
   "source": [
    "import requests\n",
    "headers = {'User-Agent': 'Mozilla/5.0 (Macintosh; Intel Mac OS X 10.10; rv:39.0) Gecko/20100101 Firefox/39.0'}\n",
    "response = requests.get(game_url, headers=headers)\n",
    "game_data = response.json()"
   ]
  },
  {
   "cell_type": "markdown",
   "metadata": {},
   "source": [
    "Exploring the boxscore, there is a _gamepitches_ record. This is Yahoo!'s pitch data."
   ]
  },
  {
   "cell_type": "code",
   "execution_count": 8,
   "metadata": {
    "collapsed": false
   },
   "outputs": [],
   "source": [
    "pitches = game_data['service']['boxscore']['gamepitches']['mlb.g.'+game_id]"
   ]
  },
  {
   "cell_type": "markdown",
   "metadata": {},
   "source": [
    "I printed out how many pitches were thrown in Game 7."
   ]
  },
  {
   "cell_type": "code",
   "execution_count": 9,
   "metadata": {
    "collapsed": false
   },
   "outputs": [
    {
     "name": "stdout",
     "output_type": "stream",
     "text": [
      "Total number of pitches thrown during the game: 343\n"
     ]
    }
   ],
   "source": [
    "print(\"Total number of pitches thrown during the game: \" + str(len(pitches)))"
   ]
  },
  {
   "cell_type": "markdown",
   "metadata": {},
   "source": [
    "I pushed the pitch data into a pandas data frame."
   ]
  },
  {
   "cell_type": "code",
   "execution_count": 10,
   "metadata": {
    "collapsed": false
   },
   "outputs": [
    {
     "data": {
      "text/html": [
       "<div>\n",
       "<table border=\"1\" class=\"dataframe\">\n",
       "  <thead>\n",
       "    <tr style=\"text-align: right;\">\n",
       "      <th></th>\n",
       "      <th>10010100</th>\n",
       "      <th>10010200</th>\n",
       "      <th>10010300</th>\n",
       "      <th>10010400</th>\n",
       "      <th>10010500</th>\n",
       "      <th>10010600</th>\n",
       "      <th>10020100</th>\n",
       "      <th>10020200</th>\n",
       "      <th>10020300</th>\n",
       "      <th>10020400</th>\n",
       "      <th>...</th>\n",
       "      <th>9040300</th>\n",
       "      <th>9040400</th>\n",
       "      <th>9040500</th>\n",
       "      <th>9040600</th>\n",
       "      <th>9050100</th>\n",
       "      <th>9050200</th>\n",
       "      <th>9050300</th>\n",
       "      <th>9050400</th>\n",
       "      <th>9050500</th>\n",
       "      <th>9050600</th>\n",
       "    </tr>\n",
       "  </thead>\n",
       "  <tbody>\n",
       "    <tr>\n",
       "      <th>balls</th>\n",
       "      <td>0</td>\n",
       "      <td>1</td>\n",
       "      <td>1</td>\n",
       "      <td>1</td>\n",
       "      <td>2</td>\n",
       "      <td>2</td>\n",
       "      <td>0</td>\n",
       "      <td>0</td>\n",
       "      <td>0</td>\n",
       "      <td>1</td>\n",
       "      <td>...</td>\n",
       "      <td>1</td>\n",
       "      <td>1</td>\n",
       "      <td>1</td>\n",
       "      <td>2</td>\n",
       "      <td>0</td>\n",
       "      <td>0</td>\n",
       "      <td>1</td>\n",
       "      <td>1</td>\n",
       "      <td>2</td>\n",
       "      <td>3</td>\n",
       "    </tr>\n",
       "    <tr>\n",
       "      <th>batter</th>\n",
       "      <td>9604</td>\n",
       "      <td>9604</td>\n",
       "      <td>9604</td>\n",
       "      <td>9604</td>\n",
       "      <td>9604</td>\n",
       "      <td>9604</td>\n",
       "      <td>6956</td>\n",
       "      <td>6956</td>\n",
       "      <td>6956</td>\n",
       "      <td>6956</td>\n",
       "      <td>...</td>\n",
       "      <td>8853</td>\n",
       "      <td>8853</td>\n",
       "      <td>8853</td>\n",
       "      <td>8853</td>\n",
       "      <td>9116</td>\n",
       "      <td>9116</td>\n",
       "      <td>9116</td>\n",
       "      <td>9116</td>\n",
       "      <td>9116</td>\n",
       "      <td>9116</td>\n",
       "    </tr>\n",
       "    <tr>\n",
       "      <th>game</th>\n",
       "      <td>361102105</td>\n",
       "      <td>361102105</td>\n",
       "      <td>361102105</td>\n",
       "      <td>361102105</td>\n",
       "      <td>361102105</td>\n",
       "      <td>361102105</td>\n",
       "      <td>361102105</td>\n",
       "      <td>361102105</td>\n",
       "      <td>361102105</td>\n",
       "      <td>361102105</td>\n",
       "      <td>...</td>\n",
       "      <td>361102105</td>\n",
       "      <td>361102105</td>\n",
       "      <td>361102105</td>\n",
       "      <td>361102105</td>\n",
       "      <td>361102105</td>\n",
       "      <td>361102105</td>\n",
       "      <td>361102105</td>\n",
       "      <td>361102105</td>\n",
       "      <td>361102105</td>\n",
       "      <td>361102105</td>\n",
       "    </tr>\n",
       "    <tr>\n",
       "      <th>horizontal</th>\n",
       "      <td>11667</td>\n",
       "      <td>-5000</td>\n",
       "      <td>-8333</td>\n",
       "      <td>16667</td>\n",
       "      <td>-1667</td>\n",
       "      <td>5000</td>\n",
       "      <td>8333</td>\n",
       "      <td>13333</td>\n",
       "      <td>-15000</td>\n",
       "      <td>0</td>\n",
       "      <td>...</td>\n",
       "      <td>10000</td>\n",
       "      <td>10000</td>\n",
       "      <td>15000</td>\n",
       "      <td>10000</td>\n",
       "      <td>5000</td>\n",
       "      <td>5000</td>\n",
       "      <td>-8333</td>\n",
       "      <td>15000</td>\n",
       "      <td>-6667</td>\n",
       "      <td>11667</td>\n",
       "    </tr>\n",
       "    <tr>\n",
       "      <th>period</th>\n",
       "      <td>10</td>\n",
       "      <td>10</td>\n",
       "      <td>10</td>\n",
       "      <td>10</td>\n",
       "      <td>10</td>\n",
       "      <td>10</td>\n",
       "      <td>10</td>\n",
       "      <td>10</td>\n",
       "      <td>10</td>\n",
       "      <td>10</td>\n",
       "      <td>...</td>\n",
       "      <td>9</td>\n",
       "      <td>9</td>\n",
       "      <td>9</td>\n",
       "      <td>9</td>\n",
       "      <td>9</td>\n",
       "      <td>9</td>\n",
       "      <td>9</td>\n",
       "      <td>9</td>\n",
       "      <td>9</td>\n",
       "      <td>9</td>\n",
       "    </tr>\n",
       "  </tbody>\n",
       "</table>\n",
       "<p>5 rows × 343 columns</p>\n",
       "</div>"
      ],
      "text/plain": [
       "             10010100   10010200   10010300   10010400   10010500   10010600  \\\n",
       "balls               0          1          1          1          2          2   \n",
       "batter           9604       9604       9604       9604       9604       9604   \n",
       "game        361102105  361102105  361102105  361102105  361102105  361102105   \n",
       "horizontal      11667      -5000      -8333      16667      -1667       5000   \n",
       "period             10         10         10         10         10         10   \n",
       "\n",
       "             10020100   10020200   10020300   10020400    ...        9040300  \\\n",
       "balls               0          0          0          1    ...              1   \n",
       "batter           6956       6956       6956       6956    ...           8853   \n",
       "game        361102105  361102105  361102105  361102105    ...      361102105   \n",
       "horizontal       8333      13333     -15000          0    ...          10000   \n",
       "period             10         10         10         10    ...              9   \n",
       "\n",
       "              9040400    9040500    9040600    9050100    9050200    9050300  \\\n",
       "balls               1          1          2          0          0          1   \n",
       "batter           8853       8853       8853       9116       9116       9116   \n",
       "game        361102105  361102105  361102105  361102105  361102105  361102105   \n",
       "horizontal      10000      15000      10000       5000       5000      -8333   \n",
       "period              9          9          9          9          9          9   \n",
       "\n",
       "              9050400    9050500    9050600  \n",
       "balls               1          2          3  \n",
       "batter           9116       9116       9116  \n",
       "game        361102105  361102105  361102105  \n",
       "horizontal      15000      -6667      11667  \n",
       "period              9          9          9  \n",
       "\n",
       "[5 rows x 343 columns]"
      ]
     },
     "execution_count": 10,
     "metadata": {},
     "output_type": "execute_result"
    }
   ],
   "source": [
    "import pandas as pd\n",
    "pitch_df = pd.DataFrame(pitches)\n",
    "pitch_df.head()"
   ]
  },
  {
   "cell_type": "markdown",
   "metadata": {},
   "source": [
    "I transposed the data frame so that the columns corresponded to the pitch variables such as _balls_, _strikes_, and _velocity_."
   ]
  },
  {
   "cell_type": "code",
   "execution_count": 11,
   "metadata": {
    "collapsed": false
   },
   "outputs": [
    {
     "data": {
      "text/html": [
       "<div>\n",
       "<table border=\"1\" class=\"dataframe\">\n",
       "  <thead>\n",
       "    <tr style=\"text-align: right;\">\n",
       "      <th></th>\n",
       "      <th>balls</th>\n",
       "      <th>batter</th>\n",
       "      <th>game</th>\n",
       "      <th>horizontal</th>\n",
       "      <th>period</th>\n",
       "      <th>pitch_num</th>\n",
       "      <th>pitch_type</th>\n",
       "      <th>pitcher</th>\n",
       "      <th>play_num</th>\n",
       "      <th>play_type</th>\n",
       "      <th>result</th>\n",
       "      <th>sequence</th>\n",
       "      <th>strikes</th>\n",
       "      <th>velocity</th>\n",
       "      <th>vertical</th>\n",
       "    </tr>\n",
       "  </thead>\n",
       "  <tbody>\n",
       "    <tr>\n",
       "      <th>10010100</th>\n",
       "      <td>0</td>\n",
       "      <td>9604</td>\n",
       "      <td>361102105</td>\n",
       "      <td>11667</td>\n",
       "      <td>10</td>\n",
       "      <td>1</td>\n",
       "      <td>3</td>\n",
       "      <td>7847</td>\n",
       "      <td>10010100</td>\n",
       "      <td>PITCH</td>\n",
       "      <td>0</td>\n",
       "      <td>1</td>\n",
       "      <td>0</td>\n",
       "      <td>82</td>\n",
       "      <td>3333</td>\n",
       "    </tr>\n",
       "    <tr>\n",
       "      <th>10010200</th>\n",
       "      <td>1</td>\n",
       "      <td>9604</td>\n",
       "      <td>361102105</td>\n",
       "      <td>-5000</td>\n",
       "      <td>10</td>\n",
       "      <td>2</td>\n",
       "      <td>3</td>\n",
       "      <td>7847</td>\n",
       "      <td>10010200</td>\n",
       "      <td>PITCH</td>\n",
       "      <td>1</td>\n",
       "      <td>2</td>\n",
       "      <td>0</td>\n",
       "      <td>81</td>\n",
       "      <td>-3333</td>\n",
       "    </tr>\n",
       "    <tr>\n",
       "      <th>10010300</th>\n",
       "      <td>1</td>\n",
       "      <td>9604</td>\n",
       "      <td>361102105</td>\n",
       "      <td>-8333</td>\n",
       "      <td>10</td>\n",
       "      <td>3</td>\n",
       "      <td>1</td>\n",
       "      <td>7847</td>\n",
       "      <td>10010300</td>\n",
       "      <td>PITCH</td>\n",
       "      <td>2</td>\n",
       "      <td>3</td>\n",
       "      <td>1</td>\n",
       "      <td>91</td>\n",
       "      <td>13333</td>\n",
       "    </tr>\n",
       "    <tr>\n",
       "      <th>10010400</th>\n",
       "      <td>1</td>\n",
       "      <td>9604</td>\n",
       "      <td>361102105</td>\n",
       "      <td>16667</td>\n",
       "      <td>10</td>\n",
       "      <td>4</td>\n",
       "      <td>3</td>\n",
       "      <td>7847</td>\n",
       "      <td>10010400</td>\n",
       "      <td>PITCH</td>\n",
       "      <td>0</td>\n",
       "      <td>4</td>\n",
       "      <td>2</td>\n",
       "      <td>83</td>\n",
       "      <td>-13333</td>\n",
       "    </tr>\n",
       "    <tr>\n",
       "      <th>10010500</th>\n",
       "      <td>2</td>\n",
       "      <td>9604</td>\n",
       "      <td>361102105</td>\n",
       "      <td>-1667</td>\n",
       "      <td>10</td>\n",
       "      <td>5</td>\n",
       "      <td>3</td>\n",
       "      <td>7847</td>\n",
       "      <td>10010500</td>\n",
       "      <td>PITCH</td>\n",
       "      <td>3</td>\n",
       "      <td>5</td>\n",
       "      <td>2</td>\n",
       "      <td>82</td>\n",
       "      <td>-6667</td>\n",
       "    </tr>\n",
       "  </tbody>\n",
       "</table>\n",
       "</div>"
      ],
      "text/plain": [
       "         balls batter       game horizontal period pitch_num pitch_type  \\\n",
       "10010100     0   9604  361102105      11667     10         1          3   \n",
       "10010200     1   9604  361102105      -5000     10         2          3   \n",
       "10010300     1   9604  361102105      -8333     10         3          1   \n",
       "10010400     1   9604  361102105      16667     10         4          3   \n",
       "10010500     2   9604  361102105      -1667     10         5          3   \n",
       "\n",
       "         pitcher  play_num play_type result sequence strikes velocity vertical  \n",
       "10010100    7847  10010100     PITCH      0        1       0       82     3333  \n",
       "10010200    7847  10010200     PITCH      1        2       0       81    -3333  \n",
       "10010300    7847  10010300     PITCH      2        3       1       91    13333  \n",
       "10010400    7847  10010400     PITCH      0        4       2       83   -13333  \n",
       "10010500    7847  10010500     PITCH      3        5       2       82    -6667  "
      ]
     },
     "execution_count": 11,
     "metadata": {},
     "output_type": "execute_result"
    }
   ],
   "source": [
    "transpose_pitch_df = pitch_df.transpose()\n",
    "transpose_pitch_df.head()"
   ]
  },
  {
   "cell_type": "markdown",
   "metadata": {},
   "source": [
    "The data in the pitch data frame are all strings. I needed to convert numeric fields to numeric data types."
   ]
  },
  {
   "cell_type": "code",
   "execution_count": 12,
   "metadata": {
    "collapsed": false
   },
   "outputs": [
    {
     "name": "stderr",
     "output_type": "stream",
     "text": [
      "C:\\Program Files\\ArcGIS\\Pro\\bin\\Python\\envs\\arcgispro-py3\\lib\\site-packages\\ipykernel\\__main__.py:2: FutureWarning: convert_objects is deprecated.  Use the data-type specific converters pd.to_datetime, pd.to_timedelta and pd.to_numeric.\n",
      "  from ipykernel import kernelapp as app\n"
     ]
    },
    {
     "data": {
      "text/plain": [
       "balls           int64\n",
       "batter          int64\n",
       "game            int64\n",
       "horizontal    float64\n",
       "period          int64\n",
       "pitch_num       int64\n",
       "pitch_type    float64\n",
       "pitcher         int64\n",
       "play_num        int64\n",
       "play_type      object\n",
       "result          int64\n",
       "sequence        int64\n",
       "strikes         int64\n",
       "velocity      float64\n",
       "vertical      float64\n",
       "dtype: object"
      ]
     },
     "execution_count": 12,
     "metadata": {},
     "output_type": "execute_result"
    }
   ],
   "source": [
    "for val in list(transpose_pitch_df.columns.values):\n",
    "    transpose_pitch_df[val] = transpose_pitch_df[val].convert_objects(convert_numeric=True)\n",
    "    \n",
    "transpose_pitch_df.dtypes"
   ]
  },
  {
   "cell_type": "markdown",
   "metadata": {},
   "source": [
    "Using [_BeautifulSoup_](https://www.crummy.com/software/BeautifulSoup/), I retrieved the names of the pitchers and batters from their Yahoo! ID."
   ]
  },
  {
   "cell_type": "code",
   "execution_count": 13,
   "metadata": {
    "collapsed": false
   },
   "outputs": [],
   "source": [
    "from bs4 import BeautifulSoup"
   ]
  },
  {
   "cell_type": "markdown",
   "metadata": {},
   "source": [
    "I verified the starting pitcher and lead-off batter for Game 7."
   ]
  },
  {
   "cell_type": "code",
   "execution_count": 14,
   "metadata": {
    "collapsed": false
   },
   "outputs": [
    {
     "name": "stdout",
     "output_type": "stream",
     "text": [
      "On the mound to start the game: Corey Kluber | Cleveland | Major League Baseball | Yahoo! Sports\n",
      "First batter faced: Dexter Fowler | Chi Cubs | Major League Baseball | Yahoo! Sports\n"
     ]
    }
   ],
   "source": [
    "pitcher_url = 'http://sports.yahoo.com/mlb/players/' + str(transpose_pitch_df['pitcher']['10100']) + '/'\n",
    "req = requests.get(pitcher_url)\n",
    "html = req.text\n",
    "soup = BeautifulSoup(html, 'html.parser')\n",
    "print(\"On the mound to start the game: \" + soup.title.string)\n",
    "batter_url = 'http://sports.yahoo.com/mlb/players/' + str(transpose_pitch_df['batter']['10100']) + '/'\n",
    "req = requests.get(batter_url)\n",
    "html = req.text\n",
    "soup = BeautifulSoup(html, 'html.parser')\n",
    "print(\"First batter faced: \" + soup.title.string)"
   ]
  },
  {
   "cell_type": "markdown",
   "metadata": {},
   "source": [
    "I also listed the pitchers who played in Game 7."
   ]
  },
  {
   "cell_type": "code",
   "execution_count": 15,
   "metadata": {
    "collapsed": false
   },
   "outputs": [
    {
     "name": "stdout",
     "output_type": "stream",
     "text": [
      "Andrew Miller  of the  Cleveland (Yahoo ID: 7847)\n",
      "Corey Kluber  of the  Cleveland (Yahoo ID: 9048)\n",
      "Kyle Hendricks  of the  Chi Cubs (Yahoo ID: 9758)\n",
      "Jon Lester  of the  Chi Cubs (Yahoo ID: 7790)\n",
      "Cody Allen  of the  Cleveland (Yahoo ID: 9243)\n",
      "Aroldis Chapman  of the  Chi Cubs (Yahoo ID: 8616)\n",
      "Bryan Shaw  of the  Cleveland (Yahoo ID: 8962)\n",
      "Trevor Bauer  of the  Cleveland (Yahoo ID: 9122)\n",
      "Carl Edwards Jr.  of the  Chi Cubs (Yahoo ID: 9555)\n",
      "Mike Montgomery  of the  Chi Cubs (Yahoo ID: 8684)\n"
     ]
    }
   ],
   "source": [
    "pitcher_list = transpose_pitch_df.pitcher.unique()\n",
    "for pitcher in pitcher_list:\n",
    "    pitcher_url = 'http://sports.yahoo.com/mlb/players/' + str(pitcher) + '/'\n",
    "    req = requests.get(pitcher_url)\n",
    "    html = req.text\n",
    "    soup = BeautifulSoup(html, 'html.parser')\n",
    "    pitcher_info = soup.title.string\n",
    "    print(pitcher_info.split('|')[0] + \" of the \" + \n",
    "          pitcher_info.split('|')[1] + \"(Yahoo ID: \"+str(pitcher)+\")\")"
   ]
  },
  {
   "cell_type": "markdown",
   "metadata": {},
   "source": [
    "I thought that Kluber and Hendricks were going to be in Game 7 a lot longer than they were. I filtered only to look only at their pitches."
   ]
  },
  {
   "cell_type": "code",
   "execution_count": 16,
   "metadata": {
    "collapsed": false
   },
   "outputs": [],
   "source": [
    "kluber = transpose_pitch_df[transpose_pitch_df.pitcher == 9048]\n",
    "hendricks = transpose_pitch_df[transpose_pitch_df.pitcher == 9758]"
   ]
  },
  {
   "cell_type": "markdown",
   "metadata": {},
   "source": [
    "After filtering on only their pitches, I can create some pitch charts using [_matplotlib_](http://matplotlib.org/)."
   ]
  },
  {
   "cell_type": "code",
   "execution_count": 17,
   "metadata": {
    "collapsed": false
   },
   "outputs": [],
   "source": [
    "import matplotlib.pyplot as plt\n",
    "%matplotlib inline"
   ]
  },
  {
   "cell_type": "markdown",
   "metadata": {},
   "source": [
    "I plotted a histogram of Kluber's pitch velovity during game 7."
   ]
  },
  {
   "cell_type": "code",
   "execution_count": 18,
   "metadata": {
    "collapsed": false
   },
   "outputs": [
    {
     "data": {
      "image/png": "[encoded data removed]",
      "text/plain": [
       "<matplotlib.figure.Figure at 0x8007748>"
      ]
     },
     "metadata": {},
     "output_type": "display_data"
    }
   ],
   "source": [
    "plt.figure(figsize=(6,6))\n",
    "plt.subplot(111)\n",
    "k_max = kluber.velocity.max()\n",
    "k_min = kluber.velocity.min()\n",
    "ax1= kluber['velocity'].hist(bins=k_max-k_min)\n",
    "plt.xlim(70, 100)\n",
    "plt.title('Corey Kluber Pitch Velocity - Game 7')\n",
    "plt.xlabel('Pitch Velocity')\n",
    "plt.ylabel('Number of Pitches')\n",
    "plt.show()"
   ]
  },
  {
   "cell_type": "markdown",
   "metadata": {},
   "source": [
    "I also created a histogram of Hendrick's pitch velocity during Game 7."
   ]
  },
  {
   "cell_type": "code",
   "execution_count": 19,
   "metadata": {
    "collapsed": false
   },
   "outputs": [
    {
     "data": {
      "image/png": "[encoded data removed]",
      "text/plain": [
       "<matplotlib.figure.Figure at 0x807ea20>"
      ]
     },
     "metadata": {},
     "output_type": "display_data"
    }
   ],
   "source": [
    "plt.figure(figsize=(6,6))\n",
    "plt.subplot(111)\n",
    "h_max = hendricks.velocity.max()\n",
    "h_min = hendricks.velocity.min()\n",
    "ax2 = hendricks['velocity'].hist(bins=h_max-h_min)\n",
    "plt.xlim(70, 100)\n",
    "plt.title('Kyle Hendricks Pitch Velocity - Game 7')\n",
    "plt.xlabel('Pitch Velocity')\n",
    "plt.ylabel('Number of Pitches')\n",
    "plt.show()"
   ]
  },
  {
   "cell_type": "markdown",
   "metadata": {},
   "source": [
    "Next, looked at pitch location. I seprated balls from strikes (strikes, fould balls, and hits) for each pitcher."
   ]
  },
  {
   "cell_type": "code",
   "execution_count": 20,
   "metadata": {
    "collapsed": false
   },
   "outputs": [],
   "source": [
    "sorted_kluber_pitches = kluber.sort_values(['play_num'])\n",
    "sorted_hendricks_pitches = hendricks.sort_values(['play_num'])\n",
    "kluber_balls =sorted_kluber_pitches[sorted_kluber_pitches.result == 0]\n",
    "hendricks_balls =sorted_hendricks_pitches[sorted_hendricks_pitches.result == 0]\n",
    "kluber_others =sorted_kluber_pitches[sorted_kluber_pitches.result != 0]\n",
    "hendricks_others =sorted_hendricks_pitches[sorted_hendricks_pitches.result != 0]"
   ]
  },
  {
   "cell_type": "markdown",
   "metadata": {},
   "source": [
    "I plotted the pitch locations on using _matplotlib_ and _seaborn_."
   ]
  },
  {
   "cell_type": "code",
   "execution_count": 21,
   "metadata": {
    "collapsed": true
   },
   "outputs": [],
   "source": [
    "import seaborn as sns"
   ]
  },
  {
   "cell_type": "markdown",
   "metadata": {},
   "source": [
    "First, I checked to see if pitches that were balls formed the strike zone."
   ]
  },
  {
   "cell_type": "code",
   "execution_count": 22,
   "metadata": {
    "collapsed": false
   },
   "outputs": [
    {
     "data": {
      "image/png": "[encoded data removed]",
      "text/plain": [
       "<matplotlib.figure.Figure at 0xa2abef0>"
      ]
     },
     "metadata": {},
     "output_type": "display_data"
    }
   ],
   "source": [
    "plt.figure(figsize=(6,6))\n",
    "ax = plt.subplot(111)\n",
    "ax.scatter(transpose_pitch_df[transpose_pitch_df.result==0].horizontal, \n",
    "                    transpose_pitch_df[transpose_pitch_df.result==0].vertical, \n",
    "                    marker='o', label='balls')\n",
    "\n",
    "ax.set_xlim(-20000,20000)\n",
    "ax.set_ylim(-20000,20000)\n",
    "\n",
    "#Axis labels\n",
    "ax.set_xlabel('Horizontal')\n",
    "ax.set_ylabel('Vertical')\n",
    "\n",
    "#set title\n",
    "ax.set_title('The Strike Zone', \n",
    "             y=1.0, fontsize=18)\n",
    "\n",
    "#show legend\n",
    "ax.legend(loc=3, frameon=True, shadow=True)\n",
    "plt.show()"
   ]
  },
  {
   "cell_type": "markdown",
   "metadata": {},
   "source": [
    "When I filtered to only show balls, you see a big gap in pitch locations. These points outline the strike zone.\n",
    "\n",
    "I created the starting pitchers pitch charts. Here is Kyle Hendrick's."
   ]
  },
  {
   "cell_type": "code",
   "execution_count": 23,
   "metadata": {
    "collapsed": false
   },
   "outputs": [
    {
     "data": {
      "image/png": "[encoded data removed]",
      "text/plain": [
       "<matplotlib.figure.Figure at 0xa3006d8>"
      ]
     },
     "metadata": {},
     "output_type": "display_data"
    }
   ],
   "source": [
    "# create our jointplot\n",
    "joint_chart = sns.jointplot(hendricks_others.horizontal,\n",
    "                                 hendricks_others.vertical, \n",
    "                                 stat_func=None,\n",
    "                                 color='r',\n",
    "                                 marker='o',\n",
    "                                 s=50,\n",
    "                                 kind='scatter', \n",
    "                                 space=0,\n",
    "                                 label='Strikes/Hits/Fouls',\n",
    "                                 alpha=1.0)\n",
    "\n",
    "joint_chart.fig.set_size_inches(6,6)\n",
    "\n",
    "joint_chart.x = hendricks_balls.horizontal\n",
    "joint_chart.y = hendricks_balls.vertical\n",
    "joint_chart.plot_joint(plt.scatter, marker='o', \n",
    "                       c='b', s=50,label='Balls')\n",
    "\n",
    "ax = joint_chart.ax_joint\n",
    "\n",
    "ax.set_xlim(-20000,20000)\n",
    "ax.set_ylim(-20000, 20000)\n",
    "\n",
    "# Get rid of axis labels and tick marks\n",
    "#ax.set_xlabel('')\n",
    "#ax.set_ylabel('')\n",
    "#ax.tick_params(labelbottom='off', labelleft='off')\n",
    "\n",
    "# Add a title and legend\n",
    "ax.set_title('Kyle Hendricks: Stikes/Fouls/Balls Hit', \n",
    "             y=1.2, fontsize=18)\n",
    "ax.legend(loc=3, frameon=True, shadow=True)\n",
    "\n",
    "# Add Data Scource and Author\n",
    "#ax.text(-20000,-20000,'Data Source: Yahoo!'\n",
    "#        '\\nAuthor: Gregory Brunner, @gregbrunn',\n",
    "#        fontsize=12)\n",
    "\n",
    "plt.show()"
   ]
  },
  {
   "cell_type": "markdown",
   "metadata": {},
   "source": [
    "Here is Corey Kluber's pitch chart."
   ]
  },
  {
   "cell_type": "code",
   "execution_count": 24,
   "metadata": {
    "collapsed": false
   },
   "outputs": [
    {
     "data": {
      "image/png": "[encoded data removed]",
      "text/plain": [
       "<matplotlib.figure.Figure at 0xae5df60>"
      ]
     },
     "metadata": {},
     "output_type": "display_data"
    }
   ],
   "source": [
    "joint_chart = sns.jointplot(kluber_others.horizontal,\n",
    "                                 kluber_others.vertical, \n",
    "                                 stat_func=None,\n",
    "                                 color='r',\n",
    "                                 marker='o',\n",
    "                                 s=50,\n",
    "                                 kind='scatter', \n",
    "                                 space=0, \n",
    "                                 label='Strikes/Hits/Fouls',\n",
    "                                 alpha=1.0)\n",
    "\n",
    "joint_chart.fig.set_size_inches(6,6)\n",
    "\n",
    "joint_chart.x = kluber_balls.horizontal\n",
    "joint_chart.y = kluber_balls.vertical\n",
    "joint_chart.plot_joint(plt.scatter, marker='o', \n",
    "                       c='b', s=50,label='Balls')\n",
    "\n",
    "ax = joint_chart.ax_joint\n",
    "\n",
    "ax.set_xlim(-20000,20000)\n",
    "ax.set_ylim(-20000, 20000)\n",
    "\n",
    "# Get rid of axis labels and tick marks\n",
    "#ax.set_xlabel('')\n",
    "#ax.set_ylabel('')\n",
    "#ax.tick_params(labelbottom='off', labelleft='off')\n",
    "\n",
    "# Add a title and legend\n",
    "ax.set_title('Corey Kluber: World Series Game 7', \n",
    "             y=1.2, fontsize=18)\n",
    "ax.legend(loc=3, frameon=True, shadow=True)\n",
    "\n",
    "\n",
    "# Add Data Scource and Author\n",
    "#ax.text(-20000,-20000,'Data Source: Yahoo!'\n",
    "#        '\\nAuthor: Gregory Brunner, @gregbrunn',\n",
    "#        fontsize=12)\n",
    "\n",
    "plt.show()"
   ]
  },
  {
   "cell_type": "markdown",
   "metadata": {},
   "source": [
    "This is a really cursory analysis of the pitch data. There is a lot more I could do, but I'll save that for another day.\n",
    "\n",
    "What I hope to do in a future post is look at the play-by-play data and plot hit locations on [Gavin's](https://twitter.com/gavinrehkemper) [team basemaps](https://gavinr.github.io/team-basemaps/)! If you are interesed in doing this yourself, here is how you can access the hit locations."
   ]
  },
  {
   "cell_type": "code",
   "execution_count": 25,
   "metadata": {
    "collapsed": false
   },
   "outputs": [
    {
     "data": {
      "text/html": [
       "<div>\n",
       "<table border=\"1\" class=\"dataframe\">\n",
       "  <thead>\n",
       "    <tr style=\"text-align: right;\">\n",
       "      <th></th>\n",
       "      <th>away_score</th>\n",
       "      <th>ball_hit</th>\n",
       "      <th>batter</th>\n",
       "      <th>errors</th>\n",
       "      <th>hit_angle</th>\n",
       "      <th>hit_distance</th>\n",
       "      <th>hit_hardness</th>\n",
       "      <th>hit_style</th>\n",
       "      <th>hits</th>\n",
       "      <th>home_score</th>\n",
       "      <th>period</th>\n",
       "      <th>pitcher</th>\n",
       "      <th>pitches_ids</th>\n",
       "      <th>play_num</th>\n",
       "      <th>play_time</th>\n",
       "      <th>play_type</th>\n",
       "      <th>players</th>\n",
       "      <th>runs</th>\n",
       "      <th>text</th>\n",
       "    </tr>\n",
       "  </thead>\n",
       "  <tbody>\n",
       "    <tr>\n",
       "      <th>10010601</th>\n",
       "      <td>NaN</td>\n",
       "      <td>1</td>\n",
       "      <td>9604</td>\n",
       "      <td>NaN</td>\n",
       "      <td>47</td>\n",
       "      <td>78</td>\n",
       "      <td>2</td>\n",
       "      <td>5</td>\n",
       "      <td>NaN</td>\n",
       "      <td>NaN</td>\n",
       "      <td>10</td>\n",
       "      <td>7847</td>\n",
       "      <td>10010100,10010200,10010300,10010400,10010500,1...</td>\n",
       "      <td>10010601</td>\n",
       "      <td>1478138751</td>\n",
       "      <td>RESULT</td>\n",
       "      <td>9604</td>\n",
       "      <td>NaN</td>\n",
       "      <td>[mlb.p.9604] fouled out to first</td>\n",
       "    </tr>\n",
       "    <tr>\n",
       "      <th>10020401</th>\n",
       "      <td>6</td>\n",
       "      <td>1</td>\n",
       "      <td>6956</td>\n",
       "      <td>NaN</td>\n",
       "      <td>6</td>\n",
       "      <td>402</td>\n",
       "      <td>3</td>\n",
       "      <td>2</td>\n",
       "      <td>NaN</td>\n",
       "      <td>3</td>\n",
       "      <td>10</td>\n",
       "      <td>7847</td>\n",
       "      <td>10020100,10020200,10020300,10020400</td>\n",
       "      <td>10020401</td>\n",
       "      <td>1478138866</td>\n",
       "      <td>RESULT</td>\n",
       "      <td>6956</td>\n",
       "      <td>1</td>\n",
       "      <td>[mlb.p.6956] homered (402 ft.) to deep center</td>\n",
       "    </tr>\n",
       "    <tr>\n",
       "      <th>10030201</th>\n",
       "      <td>NaN</td>\n",
       "      <td>1</td>\n",
       "      <td>8621</td>\n",
       "      <td>NaN</td>\n",
       "      <td>35</td>\n",
       "      <td>110</td>\n",
       "      <td>2</td>\n",
       "      <td>3</td>\n",
       "      <td>NaN</td>\n",
       "      <td>NaN</td>\n",
       "      <td>10</td>\n",
       "      <td>7847</td>\n",
       "      <td>10030100,10030200</td>\n",
       "      <td>10030201</td>\n",
       "      <td>1478138929</td>\n",
       "      <td>RESULT</td>\n",
       "      <td>8621</td>\n",
       "      <td>NaN</td>\n",
       "      <td>[mlb.p.8621] grounded out to first</td>\n",
       "    </tr>\n",
       "    <tr>\n",
       "      <th>10040401</th>\n",
       "      <td>NaN</td>\n",
       "      <td>0</td>\n",
       "      <td>9557</td>\n",
       "      <td>NaN</td>\n",
       "      <td>NaN</td>\n",
       "      <td>NaN</td>\n",
       "      <td>NaN</td>\n",
       "      <td>NaN</td>\n",
       "      <td>NaN</td>\n",
       "      <td>NaN</td>\n",
       "      <td>10</td>\n",
       "      <td>7847</td>\n",
       "      <td>10040100,10040200,10040300,10040400</td>\n",
       "      <td>10040401</td>\n",
       "      <td>1478139030</td>\n",
       "      <td>RESULT</td>\n",
       "      <td>9557</td>\n",
       "      <td>NaN</td>\n",
       "      <td>[mlb.p.9557] struck out swinging</td>\n",
       "    </tr>\n",
       "    <tr>\n",
       "      <th>1010101</th>\n",
       "      <td>NaN</td>\n",
       "      <td>1</td>\n",
       "      <td>8619</td>\n",
       "      <td>NaN</td>\n",
       "      <td>23</td>\n",
       "      <td>262</td>\n",
       "      <td>3</td>\n",
       "      <td>4</td>\n",
       "      <td>NaN</td>\n",
       "      <td>NaN</td>\n",
       "      <td>1</td>\n",
       "      <td>9758</td>\n",
       "      <td>1010100</td>\n",
       "      <td>1010101</td>\n",
       "      <td>1478132159</td>\n",
       "      <td>RESULT</td>\n",
       "      <td>8619</td>\n",
       "      <td>NaN</td>\n",
       "      <td>[mlb.p.8619] lined out to right</td>\n",
       "    </tr>\n",
       "  </tbody>\n",
       "</table>\n",
       "</div>"
      ],
      "text/plain": [
       "         away_score ball_hit batter errors hit_angle hit_distance  \\\n",
       "10010601        NaN        1   9604    NaN        47           78   \n",
       "10020401          6        1   6956    NaN         6          402   \n",
       "10030201        NaN        1   8621    NaN        35          110   \n",
       "10040401        NaN        0   9557    NaN       NaN          NaN   \n",
       "1010101         NaN        1   8619    NaN        23          262   \n",
       "\n",
       "         hit_hardness hit_style hits home_score period pitcher  \\\n",
       "10010601            2         5  NaN        NaN     10    7847   \n",
       "10020401            3         2  NaN          3     10    7847   \n",
       "10030201            2         3  NaN        NaN     10    7847   \n",
       "10040401          NaN       NaN  NaN        NaN     10    7847   \n",
       "1010101             3         4  NaN        NaN      1    9758   \n",
       "\n",
       "                                                pitches_ids  play_num  \\\n",
       "10010601  10010100,10010200,10010300,10010400,10010500,1...  10010601   \n",
       "10020401                10020100,10020200,10020300,10020400  10020401   \n",
       "10030201                                  10030100,10030200  10030201   \n",
       "10040401                10040100,10040200,10040300,10040400  10040401   \n",
       "1010101                                             1010100   1010101   \n",
       "\n",
       "           play_time play_type players runs  \\\n",
       "10010601  1478138751    RESULT    9604  NaN   \n",
       "10020401  1478138866    RESULT    6956    1   \n",
       "10030201  1478138929    RESULT    8621  NaN   \n",
       "10040401  1478139030    RESULT    9557  NaN   \n",
       "1010101   1478132159    RESULT    8619  NaN   \n",
       "\n",
       "                                                   text  \n",
       "10010601               [mlb.p.9604] fouled out to first  \n",
       "10020401  [mlb.p.6956] homered (402 ft.) to deep center  \n",
       "10030201             [mlb.p.8621] grounded out to first  \n",
       "10040401               [mlb.p.9557] struck out swinging  \n",
       "1010101                 [mlb.p.8619] lined out to right  "
      ]
     },
     "execution_count": 25,
     "metadata": {},
     "output_type": "execute_result"
    }
   ],
   "source": [
    "play_by_play = game_data['service']['boxscore']['gameplay_by_play']['mlb.g.'+game_id]\n",
    "play_by_play_df = pd.DataFrame(play_by_play)\n",
    "play_by_play_df.transpose().head()"
   ]
  }
 ],
 "metadata": {
  "anaconda-cloud": {},
  "kernelspec": {
   "display_name": "Python [default]",
   "language": "python",
   "name": "python3"
  },
  "language_info": {
   "codemirror_mode": {
    "name": "ipython",
    "version": 3
   },
   "file_extension": ".py",
   "mimetype": "text/x-python",
   "name": "python",
   "nbconvert_exporter": "python",
   "pygments_lexer": "ipython3",
   "version": "3.4.5"
  }
 },
 "nbformat": 4,
 "nbformat_minor": 1
}
